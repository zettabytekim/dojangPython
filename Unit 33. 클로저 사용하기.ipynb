{
 "cells": [
  {
   "cell_type": "code",
   "execution_count": 1,
   "metadata": {},
   "outputs": [
    {
     "name": "stdout",
     "output_type": "stream",
     "text": [
      "10\n",
      "10\n"
     ]
    }
   ],
   "source": [
    "x = 10\n",
    "def foo():\n",
    "    print(x)\n",
    "    \n",
    "foo()\n",
    "print(x)"
   ]
  },
  {
   "cell_type": "code",
   "execution_count": 3,
   "metadata": {},
   "outputs": [
    {
     "name": "stdout",
     "output_type": "stream",
     "text": [
      "10\n"
     ]
    },
    {
     "ename": "NameError",
     "evalue": "name 'y' is not defined",
     "output_type": "error",
     "traceback": [
      "\u001b[0;31m---------------------------------------------------------------------------\u001b[0m",
      "\u001b[0;31mNameError\u001b[0m                                 Traceback (most recent call last)",
      "\u001b[0;32m<ipython-input-3-da8bb43ffa0a>\u001b[0m in \u001b[0;36m<module>\u001b[0;34m\u001b[0m\n\u001b[1;32m      4\u001b[0m \u001b[0;34m\u001b[0m\u001b[0m\n\u001b[1;32m      5\u001b[0m \u001b[0mfoo2\u001b[0m\u001b[0;34m(\u001b[0m\u001b[0;34m)\u001b[0m\u001b[0;34m\u001b[0m\u001b[0;34m\u001b[0m\u001b[0m\n\u001b[0;32m----> 6\u001b[0;31m \u001b[0mprint\u001b[0m\u001b[0;34m(\u001b[0m\u001b[0my\u001b[0m\u001b[0;34m)\u001b[0m\u001b[0;34m\u001b[0m\u001b[0;34m\u001b[0m\u001b[0m\n\u001b[0m",
      "\u001b[0;31mNameError\u001b[0m: name 'y' is not defined"
     ]
    }
   ],
   "source": [
    "def foo2():\n",
    "    y = 10\n",
    "    print(y)\n",
    "    \n",
    "foo2()\n",
    "print(y)"
   ]
  },
  {
   "cell_type": "code",
   "execution_count": 4,
   "metadata": {},
   "outputs": [
    {
     "name": "stdout",
     "output_type": "stream",
     "text": [
      "20\n",
      "10\n"
     ]
    }
   ],
   "source": [
    "x = 10\n",
    "def foo():\n",
    "    x = 20\n",
    "    print(x)\n",
    "    \n",
    "foo()\n",
    "print(x)"
   ]
  },
  {
   "cell_type": "code",
   "execution_count": 5,
   "metadata": {},
   "outputs": [
    {
     "name": "stdout",
     "output_type": "stream",
     "text": [
      "20\n",
      "20\n"
     ]
    }
   ],
   "source": [
    "x = 10\n",
    "def foo():\n",
    "    global x\n",
    "    x = 20\n",
    "    print(x)\n",
    "    \n",
    "foo()\n",
    "print(x)"
   ]
  },
  {
   "cell_type": "code",
   "execution_count": 6,
   "metadata": {},
   "outputs": [
    {
     "data": {
      "text/plain": [
       "{'__name__': '__main__',\n",
       " '__doc__': 'Automatically created module for IPython interactive environment',\n",
       " '__package__': None,\n",
       " '__loader__': None,\n",
       " '__spec__': None,\n",
       " '__builtin__': <module 'builtins' (built-in)>,\n",
       " '__builtins__': <module 'builtins' (built-in)>,\n",
       " '_ih': ['',\n",
       "  'x = 10\\ndef foo():\\n    print(x)\\n    \\nfoo()\\nprint(x)',\n",
       "  'def foo():\\n    x = 10\\n    print(x)\\n    \\nfoo()\\nprint(x)',\n",
       "  'def foo2():\\n    y = 10\\n    print(y)\\n    \\nfoo2()\\nprint(y)',\n",
       "  'x = 10\\ndef foo():\\n    x = 20\\n    print(x)\\n    \\nfoo()\\nprint(x)',\n",
       "  'x = 10\\ndef foo():\\n    global x\\n    x = 20\\n    print(x)\\n    \\nfoo()\\nprint(x)',\n",
       "  'x = 10\\nlocals()'],\n",
       " '_oh': {},\n",
       " '_dh': ['/Users/zetta/Documents/dojangPython'],\n",
       " 'In': ['',\n",
       "  'x = 10\\ndef foo():\\n    print(x)\\n    \\nfoo()\\nprint(x)',\n",
       "  'def foo():\\n    x = 10\\n    print(x)\\n    \\nfoo()\\nprint(x)',\n",
       "  'def foo2():\\n    y = 10\\n    print(y)\\n    \\nfoo2()\\nprint(y)',\n",
       "  'x = 10\\ndef foo():\\n    x = 20\\n    print(x)\\n    \\nfoo()\\nprint(x)',\n",
       "  'x = 10\\ndef foo():\\n    global x\\n    x = 20\\n    print(x)\\n    \\nfoo()\\nprint(x)',\n",
       "  'x = 10\\nlocals()'],\n",
       " 'Out': {},\n",
       " 'get_ipython': <bound method InteractiveShell.get_ipython of <ipykernel.zmqshell.ZMQInteractiveShell object at 0x1098f4ba8>>,\n",
       " 'exit': <IPython.core.autocall.ZMQExitAutocall at 0x10a478908>,\n",
       " 'quit': <IPython.core.autocall.ZMQExitAutocall at 0x10a478908>,\n",
       " '_': '',\n",
       " '__': '',\n",
       " '___': '',\n",
       " '_i': 'x = 10\\ndef foo():\\n    global x\\n    x = 20\\n    print(x)\\n    \\nfoo()\\nprint(x)',\n",
       " '_ii': 'x = 10\\ndef foo():\\n    x = 20\\n    print(x)\\n    \\nfoo()\\nprint(x)',\n",
       " '_iii': 'def foo2():\\n    y = 10\\n    print(y)\\n    \\nfoo2()\\nprint(y)',\n",
       " '_i1': 'x = 10\\ndef foo():\\n    print(x)\\n    \\nfoo()\\nprint(x)',\n",
       " 'x': 10,\n",
       " 'foo': <function __main__.foo()>,\n",
       " '_i2': 'def foo():\\n    x = 10\\n    print(x)\\n    \\nfoo()\\nprint(x)',\n",
       " '_i3': 'def foo2():\\n    y = 10\\n    print(y)\\n    \\nfoo2()\\nprint(y)',\n",
       " 'foo2': <function __main__.foo2()>,\n",
       " '_i4': 'x = 10\\ndef foo():\\n    x = 20\\n    print(x)\\n    \\nfoo()\\nprint(x)',\n",
       " '_i5': 'x = 10\\ndef foo():\\n    global x\\n    x = 20\\n    print(x)\\n    \\nfoo()\\nprint(x)',\n",
       " '_i6': 'x = 10\\nlocals()'}"
      ]
     },
     "execution_count": 6,
     "metadata": {},
     "output_type": "execute_result"
    }
   ],
   "source": [
    "x = 10\n",
    "locals()"
   ]
  },
  {
   "cell_type": "code",
   "execution_count": 7,
   "metadata": {},
   "outputs": [],
   "source": [
    "def foo3():\n",
    "    x = 10\n",
    "    print(locals())"
   ]
  },
  {
   "cell_type": "code",
   "execution_count": 9,
   "metadata": {},
   "outputs": [
    {
     "name": "stdout",
     "output_type": "stream",
     "text": [
      "{'x': 10}\n"
     ]
    }
   ],
   "source": [
    "foo3()"
   ]
  },
  {
   "cell_type": "code",
   "execution_count": 12,
   "metadata": {},
   "outputs": [
    {
     "name": "stdout",
     "output_type": "stream",
     "text": [
      "hello, world!\n"
     ]
    }
   ],
   "source": [
    "def print_hello():\n",
    "    hello = \"hello, world!\"\n",
    "    def print_message():\n",
    "        print(hello)\n",
    "    print_message()\n",
    "    \n",
    "print_hello()"
   ]
  },
  {
   "cell_type": "code",
   "execution_count": 13,
   "metadata": {},
   "outputs": [
    {
     "name": "stdout",
     "output_type": "stream",
     "text": [
      "10\n"
     ]
    }
   ],
   "source": [
    "def A():\n",
    "    x = 10\n",
    "    def B():\n",
    "        x = 20\n",
    "        \n",
    "    B()\n",
    "    print(x)\n",
    "    \n",
    "A()"
   ]
  },
  {
   "cell_type": "code",
   "execution_count": 14,
   "metadata": {},
   "outputs": [
    {
     "name": "stdout",
     "output_type": "stream",
     "text": [
      "20\n"
     ]
    }
   ],
   "source": [
    "def A():\n",
    "    x = 10\n",
    "    def B():\n",
    "        nonlocal x\n",
    "        x = 20\n",
    "        \n",
    "    B()\n",
    "    print(x)\n",
    "    \n",
    "A()"
   ]
  },
  {
   "cell_type": "code",
   "execution_count": 17,
   "metadata": {},
   "outputs": [
    {
     "name": "stdout",
     "output_type": "stream",
     "text": [
      "50\n",
      "400\n"
     ]
    }
   ],
   "source": [
    "def A():\n",
    "    x = 10\n",
    "    y = 100\n",
    "    def B():\n",
    "        x = 20\n",
    "        def C():\n",
    "            nonlocal x\n",
    "            nonlocal y\n",
    "            x += 30\n",
    "            y += 300\n",
    "            print(x)\n",
    "            print(y)\n",
    "            \n",
    "        C()\n",
    "    B()\n",
    "    \n",
    "A()"
   ]
  },
  {
   "cell_type": "markdown",
   "metadata": {},
   "source": [
    "함수가 몇 단계든 상관없이 global 키워드를 사용하면 무조건 전역 변수를 사용"
   ]
  },
  {
   "cell_type": "code",
   "execution_count": 18,
   "metadata": {},
   "outputs": [
    {
     "name": "stdout",
     "output_type": "stream",
     "text": [
      "31\n"
     ]
    }
   ],
   "source": [
    "x = 1\n",
    "def A():\n",
    "    x = 10\n",
    "    def B():\n",
    "        x = 20\n",
    "        def C():\n",
    "            global x\n",
    "            x += 30\n",
    "            print(x)\n",
    "        C()\n",
    "    B()\n",
    "    \n",
    "A()"
   ]
  },
  {
   "cell_type": "markdown",
   "metadata": {},
   "source": [
    "## 33.3 클로저 사용하기"
   ]
  },
  {
   "cell_type": "code",
   "execution_count": 20,
   "metadata": {},
   "outputs": [
    {
     "name": "stdout",
     "output_type": "stream",
     "text": [
      "8 11 14 17 20\n"
     ]
    }
   ],
   "source": [
    "# closure.py\n",
    "def calc():\n",
    "    a = 3\n",
    "    b = 5\n",
    "    def mul_add(x):\n",
    "        return a * x + b\n",
    "    return mul_add\n",
    "\n",
    "c = calc()\n",
    "print(c(1), c(2), c(3), c(4), c(5))"
   ]
  },
  {
   "cell_type": "markdown",
   "metadata": {},
   "source": [
    "함수를 둘러싼 환경(지역 변수, 코드 등)을 계속 유지하다가,  \n",
    "함수를 호출할 때 다시 꺼내서 사용하는 함수를 클로저(closure)라고 합니다.  \n",
    "여기서는 c에 저장된 함수가 클로저입니다."
   ]
  },
  {
   "cell_type": "markdown",
   "metadata": {},
   "source": [
    "### 33.3.1  lambda로 클로저 만들기"
   ]
  },
  {
   "cell_type": "code",
   "execution_count": 21,
   "metadata": {},
   "outputs": [
    {
     "name": "stdout",
     "output_type": "stream",
     "text": [
      "8 11 14 17 20\n"
     ]
    }
   ],
   "source": [
    "# closure_lambda.py\n",
    "def calc():\n",
    "    a = 3\n",
    "    b = 5\n",
    "    return lambda x: a * x + b\n",
    "\n",
    "c = calc()\n",
    "print(c(1), c(2), c(3), c(4), c(5))"
   ]
  },
  {
   "cell_type": "markdown",
   "metadata": {},
   "source": [
    "보통 클로저는 람다 표현식과 함께 사용하는 경우가 많아 둘을 혼동하기 쉽습니다.  \n",
    "람다는 이름이 없는 익명 함수를 뜻하고, 클로저는 함수를 둘러싼 환경을 유지했다가 나중에 다시 사용하는 함수를 뜻합니다."
   ]
  },
  {
   "cell_type": "code",
   "execution_count": 22,
   "metadata": {},
   "outputs": [
    {
     "name": "stdout",
     "output_type": "stream",
     "text": [
      "8\n",
      "19\n",
      "33\n"
     ]
    }
   ],
   "source": [
    "# closure_nonlocal.py\n",
    "def calc():\n",
    "    a = 3\n",
    "    b = 5\n",
    "    total = 0\n",
    "    def mul_add(x):\n",
    "        nonlocal total\n",
    "        total = total + a * x + b\n",
    "        print(total)\n",
    "    return mul_add\n",
    "\n",
    "c = calc()\n",
    "c(1)\n",
    "c(2)\n",
    "c(3)"
   ]
  },
  {
   "cell_type": "code",
   "execution_count": null,
   "metadata": {},
   "outputs": [],
   "source": []
  }
 ],
 "metadata": {
  "kernelspec": {
   "display_name": "Python 3",
   "language": "python",
   "name": "python3"
  },
  "language_info": {
   "codemirror_mode": {
    "name": "ipython",
    "version": 3
   },
   "file_extension": ".py",
   "mimetype": "text/x-python",
   "name": "python",
   "nbconvert_exporter": "python",
   "pygments_lexer": "ipython3",
   "version": "3.7.3"
  }
 },
 "nbformat": 4,
 "nbformat_minor": 2
}
